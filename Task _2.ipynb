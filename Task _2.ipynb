{
 "cells": [
  {
   "cell_type": "markdown",
   "id": "e0869d46",
   "metadata": {},
   "source": [
    "We are finding same product in both dataset based on similarity of both product.\n",
    "we are going to take product with highest similarity score as match.\n",
    "we are assumming that for each product match is allready there in another dataset."
   ]
  },
  {
   "cell_type": "markdown",
   "id": "0b7d671c",
   "metadata": {},
   "source": [
    "Importing Libraries"
   ]
  },
  {
   "cell_type": "code",
   "execution_count": 1,
   "id": "12890188",
   "metadata": {},
   "outputs": [],
   "source": [
    "import pandas as pd\n",
    "import numpy as np\n",
    "import numpy as np\n",
    "from numpy.linalg import norm\n",
    "from sklearn.feature_extraction.text import CountVectorizer \n",
    "from sklearn.metrics.pairwise import cosine_similarity"
   ]
  },
  {
   "cell_type": "markdown",
   "id": "c6ae30b9",
   "metadata": {},
   "source": [
    "Reading Files for 2 datasets"
   ]
  },
  {
   "cell_type": "code",
   "execution_count": 2,
   "id": "8f92cbb3",
   "metadata": {},
   "outputs": [],
   "source": [
    "df_amz=pd.read_csv(r\"C:\\Users\\suhas\\Downloads\\DS - Assignment Part 2 data set\\amz_com-ecommerce_sample.csv\",encoding=\"ISO-8859-1\")\n",
    "df_fl=pd.read_csv(r\"C:\\Users\\suhas\\Downloads\\DS - Assignment Part 2 data set\\flipkart_com-ecommerce_sample.csv\")"
   ]
  },
  {
   "cell_type": "markdown",
   "id": "354052ef",
   "metadata": {},
   "source": [
    "Selecting particular columns for model"
   ]
  },
  {
   "cell_type": "code",
   "execution_count": 5,
   "id": "9c87031d",
   "metadata": {},
   "outputs": [
    {
     "name": "stdout",
     "output_type": "stream",
     "text": [
      "amazon: Index(['uniq_id', 'crawl_timestamp', 'product_url', 'product_name',\n",
      "       'product_category_tree', 'pid', 'retail_price', 'discounted_price',\n",
      "       'image', 'is_FK_Advantage_product', 'description', 'product_rating',\n",
      "       'overall_rating', 'brand', 'product_specifications'],\n",
      "      dtype='object')\n",
      "Flipkart: Index(['uniq_id', 'crawl_timestamp', 'product_url', 'product_name',\n",
      "       'product_category_tree', 'pid', 'retail_price', 'discounted_price',\n",
      "       'image', 'is_FK_Advantage_product', 'description', 'product_rating',\n",
      "       'overall_rating', 'brand', 'product_specifications'],\n",
      "      dtype='object')\n"
     ]
    }
   ],
   "source": [
    "print(\"amazon:\",df_amz.columns)\n",
    "print(\"Flipkart:\",df_fl.columns)"
   ]
  },
  {
   "cell_type": "code",
   "execution_count": 6,
   "id": "2b57f921",
   "metadata": {},
   "outputs": [],
   "source": [
    "columns=[\"uniq_id\",\"crawl_timestamp\",\"product_url\",\"image\",\"product_rating\",\"overall_rating\"]\n",
    "df_amz.drop(columns,axis=1,inplace=True)\n",
    "df_fl.drop(columns,axis=1,inplace=True)"
   ]
  },
  {
   "cell_type": "code",
   "execution_count": 7,
   "id": "40bc8adf",
   "metadata": {},
   "outputs": [],
   "source": [
    "columns=['product_category_tree','description','brand','product_specifications']\n",
    "for col in columns:\n",
    "    df_amz[col]= df_amz[col].map(str)\n",
    "for col in columns:\n",
    "    df_fl[col]= df_fl[col].map(str)"
   ]
  },
  {
   "cell_type": "code",
   "execution_count": 12,
   "id": "d722cf72",
   "metadata": {},
   "outputs": [],
   "source": [
    "def combined_features(row):\n",
    "    return row['product_category_tree']+\" \"+row['pid']+\" \"+row['description']+\" \"+row['brand']+\" \"+row['product_specifications']\n",
    "df_amz['combined features']=df_amz.apply(combined_features,axis=1)\n",
    "df_fl['combined features']=df_fl.apply(combined_features,axis=1)"
   ]
  },
  {
   "cell_type": "markdown",
   "id": "ec20fef3",
   "metadata": {},
   "source": [
    "Creating similarity on combined features"
   ]
  },
  {
   "cell_type": "code",
   "execution_count": 14,
   "id": "8b424381",
   "metadata": {},
   "outputs": [
    {
     "name": "stderr",
     "output_type": "stream",
     "text": [
      "C:\\Users\\suhas\\anaconda3\\lib\\site-packages\\sklearn\\utils\\deprecation.py:87: FutureWarning: Function get_feature_names is deprecated; get_feature_names is deprecated in 1.0 and will be removed in 1.2. Please use get_feature_names_out instead.\n",
      "  warnings.warn(msg, category=FutureWarning)\n"
     ]
    }
   ],
   "source": [
    "cv=CountVectorizer ()\n",
    "countmatrix=cv.fit_transform(df_amz['combined features'])\n",
    "Data1=pd.DataFrame(countmatrix.toarray(),columns=cv.get_feature_names())\n",
    "countmatrix1=cv.fit_transform(df_fl['combined features'])\n",
    "Data2=pd.DataFrame(countmatrix1.toarray(),columns=cv.get_feature_names())"
   ]
  },
  {
   "cell_type": "code",
   "execution_count": 15,
   "id": "f826baf7",
   "metadata": {},
   "outputs": [],
   "source": [
    "Columns=Data1.columns.intersection(Data2.columns)"
   ]
  },
  {
   "cell_type": "code",
   "execution_count": null,
   "id": "1c9778d7",
   "metadata": {},
   "outputs": [],
   "source": [
    "Data1=Data1[Columns]\n",
    "Data2=Data2[Columns]"
   ]
  },
  {
   "cell_type": "code",
   "execution_count": null,
   "id": "d029ed47",
   "metadata": {},
   "outputs": [],
   "source": [
    "data1=Data1.values\n",
    "data2=Data2.values\n",
    "df_sim=pd.DataFrame(columns=df_fl.index,index=df_amz.index)"
   ]
  },
  {
   "cell_type": "markdown",
   "id": "b6ca05c3",
   "metadata": {},
   "source": [
    "Finding Similarity by mathematical formula of cosine similarity"
   ]
  },
  {
   "cell_type": "code",
   "execution_count": 19,
   "id": "21f21850",
   "metadata": {},
   "outputs": [],
   "source": [
    "k=0\n",
    "l=0\n",
    "for i in data1:\n",
    "    for j in data2:\n",
    "        cosine = np.dot(i,j)/(norm(i)*norm(j))  \n",
    "        similarity.iloc[k,l]=cosine\n",
    "        l+=1\n",
    "    k+=1\n",
    "    l=0"
   ]
  },
  {
   "cell_type": "markdown",
   "id": "abae82fd",
   "metadata": {},
   "source": [
    "Based On similarity we will get most similar product in each dataset"
   ]
  },
  {
   "cell_type": "code",
   "execution_count": 8,
   "id": "9b1cdc34",
   "metadata": {},
   "outputs": [],
   "source": [
    "df_sim=df_sim.astype('float')\n",
    "#getting maximum value in each row\n",
    "df=df_sim.idxmax(axis=\"columns\")"
   ]
  },
  {
   "cell_type": "code",
   "execution_count": 14,
   "id": "626c622c",
   "metadata": {},
   "outputs": [],
   "source": [
    "col=[\"Product name in flipkart\",\"Retail price in flipkart\"\n",
    "     ,\"Discount proce in flipkart\",\"Product name in amazon\",\"Retail price in amazon\",\"Discount proce in amazon\"]\n",
    "df_final=pd.DataFrame(columns=col)"
   ]
  },
  {
   "cell_type": "code",
   "execution_count": 18,
   "id": "fe6fc4ff",
   "metadata": {},
   "outputs": [],
   "source": [
    "for i,j in zip(df,df.index):\n",
    "    amz_name=df_amz[\"product_name\"].iloc[j]\n",
    "    retail_amz=df_amz[\"retail_price\"].iloc[j]\n",
    "    discounted_amz=df_amz[\"discounted_price\"].iloc[j]\n",
    "    fl_name=df_fl[\"product_name\"].iloc[i]\n",
    "    retailfl=df_amz[\"retail_price\"].iloc[i]\n",
    "    discounted_fl=df_amz[\"discounted_price\"].iloc[i]\n",
    "    dict_df={\"Product name in flipkart\":fl_name,\n",
    "         \"Retail price in flipkart\":retailfl,\"Discount proce in flipkart\":discounted_fl,\n",
    "         \"Product name in amazon\":amz_name,\n",
    "         \"Retail price in amazon\":retail_amz,\"Discount proce in amazon\":discounted_amz}\n",
    "    df_final = df_final.append(dict_df, ignore_index = True)"
   ]
  },
  {
   "cell_type": "code",
   "execution_count": 17,
   "id": "768b5cec",
   "metadata": {},
   "outputs": [
    {
     "data": {
      "text/html": [
       "<div>\n",
       "<style scoped>\n",
       "    .dataframe tbody tr th:only-of-type {\n",
       "        vertical-align: middle;\n",
       "    }\n",
       "\n",
       "    .dataframe tbody tr th {\n",
       "        vertical-align: top;\n",
       "    }\n",
       "\n",
       "    .dataframe thead th {\n",
       "        text-align: right;\n",
       "    }\n",
       "</style>\n",
       "<table border=\"1\" class=\"dataframe\">\n",
       "  <thead>\n",
       "    <tr style=\"text-align: right;\">\n",
       "      <th></th>\n",
       "      <th>Product name in flipkart</th>\n",
       "      <th>Retail price in flipkart</th>\n",
       "      <th>Discount proce in flipkart</th>\n",
       "      <th>Product name in amazon</th>\n",
       "      <th>Retail price in amazon</th>\n",
       "      <th>Discount proce in amazon</th>\n",
       "    </tr>\n",
       "  </thead>\n",
       "  <tbody>\n",
       "    <tr>\n",
       "      <th>0</th>\n",
       "      <td>FabHomeDecor Fabric Double Sofa Bed</td>\n",
       "      <td>32143</td>\n",
       "      <td>29121</td>\n",
       "      <td>FabHomeDecor Fabric Double Sofa Bed</td>\n",
       "      <td>32143</td>\n",
       "      <td>29121</td>\n",
       "    </tr>\n",
       "    <tr>\n",
       "      <th>1</th>\n",
       "      <td>FabHomeDecor Fabric Double Sofa Bed</td>\n",
       "      <td>32143</td>\n",
       "      <td>29121</td>\n",
       "      <td>FabHomeDecor Fabric Double Sofa Bed</td>\n",
       "      <td>32143</td>\n",
       "      <td>29121</td>\n",
       "    </tr>\n",
       "    <tr>\n",
       "      <th>2</th>\n",
       "      <td>AW Bellies</td>\n",
       "      <td>991</td>\n",
       "      <td>551</td>\n",
       "      <td>AW Bellies</td>\n",
       "      <td>991</td>\n",
       "      <td>551</td>\n",
       "    </tr>\n",
       "    <tr>\n",
       "      <th>3</th>\n",
       "      <td>Alisha Solid Women's Cycling Shorts</td>\n",
       "      <td>694</td>\n",
       "      <td>325</td>\n",
       "      <td>Alisha Solid Women's Cycling Shorts</td>\n",
       "      <td>694</td>\n",
       "      <td>325</td>\n",
       "    </tr>\n",
       "    <tr>\n",
       "      <th>4</th>\n",
       "      <td>Sicons All Purpose Arnica Dog Shampoo</td>\n",
       "      <td>208</td>\n",
       "      <td>258</td>\n",
       "      <td>Sicons All Purpose Arnica Dog Shampoo</td>\n",
       "      <td>208</td>\n",
       "      <td>258</td>\n",
       "    </tr>\n",
       "  </tbody>\n",
       "</table>\n",
       "</div>"
      ],
      "text/plain": [
       "                Product name in flipkart Retail price in flipkart  \\\n",
       "0    FabHomeDecor Fabric Double Sofa Bed                    32143   \n",
       "1    FabHomeDecor Fabric Double Sofa Bed                    32143   \n",
       "2                             AW Bellies                      991   \n",
       "3    Alisha Solid Women's Cycling Shorts                      694   \n",
       "4  Sicons All Purpose Arnica Dog Shampoo                      208   \n",
       "\n",
       "  Discount proce in flipkart                 Product name in amazon  \\\n",
       "0                      29121    FabHomeDecor Fabric Double Sofa Bed   \n",
       "1                      29121    FabHomeDecor Fabric Double Sofa Bed   \n",
       "2                        551                             AW Bellies   \n",
       "3                        325    Alisha Solid Women's Cycling Shorts   \n",
       "4                        258  Sicons All Purpose Arnica Dog Shampoo   \n",
       "\n",
       "  Retail price in amazon Discount proce in amazon  \n",
       "0                  32143                    29121  \n",
       "1                  32143                    29121  \n",
       "2                    991                      551  \n",
       "3                    694                      325  \n",
       "4                    208                      258  "
      ]
     },
     "execution_count": 17,
     "metadata": {},
     "output_type": "execute_result"
    }
   ],
   "source": [
    "df_final"
   ]
  },
  {
   "cell_type": "code",
   "execution_count": null,
   "id": "4c9c0bac",
   "metadata": {},
   "outputs": [],
   "source": []
  }
 ],
 "metadata": {
  "kernelspec": {
   "display_name": "Python 3 (ipykernel)",
   "language": "python",
   "name": "python3"
  },
  "language_info": {
   "codemirror_mode": {
    "name": "ipython",
    "version": 3
   },
   "file_extension": ".py",
   "mimetype": "text/x-python",
   "name": "python",
   "nbconvert_exporter": "python",
   "pygments_lexer": "ipython3",
   "version": "3.9.7"
  }
 },
 "nbformat": 4,
 "nbformat_minor": 5
}
